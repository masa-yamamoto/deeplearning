{
 "cells": [
  {
   "cell_type": "markdown",
   "metadata": {},
   "source": [
    "# 第5回講義 宿題"
   ]
  },
  {
   "cell_type": "markdown",
   "metadata": {},
   "source": [
    "## 課題"
   ]
  },
  {
   "cell_type": "markdown",
   "metadata": {},
   "source": [
    "今Lessonで学んだことを元に、MNISTのファッション版 (Fashion MNIST、クラス数10) を多層パーセプトロンによって分類してみましょう。\n",
    "\n",
    "Fashion MNISTの詳細については以下のリンクを参考にしてください。\n",
    "\n",
    "Fashion MNIST: https://github.com/zalandoresearch/fashion-mnist"
   ]
  },
  {
   "cell_type": "markdown",
   "metadata": {},
   "source": [
    "### 目標値"
   ]
  },
  {
   "cell_type": "markdown",
   "metadata": {},
   "source": [
    "Accuracy: 85%"
   ]
  },
  {
   "cell_type": "markdown",
   "metadata": {},
   "source": [
    "### ルール"
   ]
  },
  {
   "cell_type": "markdown",
   "metadata": {},
   "source": [
    "- **下のセルで指定されている`x_train`、`y_train`以外の学習データは使わないでください。**\n",
    "- MLPの実装には`tf`の低レベルAPIのみを用いてください。具体的に以下のモジュールは使用しないでください。\n",
    "```python\n",
    "tf.app,\n",
    "tf.compat,\n",
    "tf.contrib,\n",
    "tf.estimator,\n",
    "tf.gfile,\n",
    "tf.graph_util,\n",
    "tf.image,\n",
    "tf.initializers,\n",
    "tf.keras,\n",
    "tf.layers,\n",
    "tf.logging,\n",
    "tf.losses,\n",
    "tf.metrics,\n",
    "tf.python_io,\n",
    "tf.resource_loader,\n",
    "tf.saved_model,\n",
    "tf.sets,\n",
    "tf.summary,\n",
    "tf.sysconfig,\n",
    "tf.test,\n",
    "tf.train\n",
    "```"
   ]
  },
  {
   "cell_type": "markdown",
   "metadata": {},
   "source": [
    "### 提出方法"
   ]
  },
  {
   "cell_type": "markdown",
   "metadata": {},
   "source": [
    "### 提出方法\n",
    "- 2つのファイルを提出していただきます。\n",
    "    1. テストデータ (`x_test`) に対する予測ラベルを`submission_pred.csv`として保存し、**Homeworkタブから`chap05`を選択して**提出してください。\n",
    "    2. それに対応するpythonのコードを`submission_code.py`として保存し、**Homeworkタブから`chap05 (code)`を選択して**提出してください。\n",
    "      - セルに書いたコードを.py形式で保存するためには%%writefileコマンドなどを利用してください（writefileコマンドではファイルの保存のみが行われセル内のpythonコード自体は実行されません。そのため、実際にコードを走らせる際にはwritefileコマンドをコメントアウトしてください）。\n",
    "      \n",
    "- なお、採点は1で行い、2はコードの確認用として利用します（成績優秀者はコード内容を公開させていただくかもしれません）。コードの内容を変更した場合は、**1と2の両方を提出し直してください**。"
   ]
  },
  {
   "cell_type": "markdown",
   "metadata": {},
   "source": [
    "### 評価方法"
   ]
  },
  {
   "cell_type": "markdown",
   "metadata": {},
   "source": [
    "- 予測ラベルの`y_test`に対する精度 (Accuracy) で評価します.\n",
    "- 毎日夜24時にテストデータの一部に対する精度でLeader Boardを更新します.\n",
    "- 締切日の夜24時にテストデータ全体に対する精度でLeader Boardを更新します. これを最終的な評価とします."
   ]
  },
  {
   "cell_type": "markdown",
   "metadata": {},
   "source": [
    "### データの読み込み\n",
    "- この部分は修正しないでください。"
   ]
  },
  {
   "cell_type": "code",
   "execution_count": 1,
   "metadata": {},
   "outputs": [],
   "source": [
    "import os\n",
    "\n",
    "import numpy as np\n",
    "import pandas as pd\n",
    "import tensorflow as tf\n",
    "\n",
    "try:\n",
    "    del [\n",
    "        tf.app,\n",
    "        tf.compat,\n",
    "        tf.contrib,\n",
    "        tf.estimator,\n",
    "        tf.gfile,\n",
    "        tf.graph_util,\n",
    "        tf.image,\n",
    "        tf.initializers,\n",
    "        tf.keras,\n",
    "        tf.layers,\n",
    "        tf.logging,\n",
    "        tf.losses,\n",
    "        tf.metrics,\n",
    "        tf.python_io,\n",
    "        tf.resource_loader,\n",
    "        tf.saved_model,\n",
    "        tf.sets,\n",
    "        tf.summary,\n",
    "        tf.sysconfig,\n",
    "        tf.test,\n",
    "        tf.train\n",
    "    ]\n",
    "except AttributeError:\n",
    "    print('Unrequired modules are already deleted (Skipped).')\n",
    "\n",
    "def load_fashionmnist():\n",
    "    # 学習データ\n",
    "    x_train = np.load('/root/userspace/public/chap05/data/x_train.npy')\n",
    "    y_train = np.load('/root/userspace/public/chap05/data/y_train.npy')\n",
    "    \n",
    "    # テストデータ\n",
    "    x_test = np.load('/root/userspace/public/chap05/data/x_test.npy')\n",
    "    \n",
    "    x_train = x_train.reshape(-1, 784).astype('float32') / 255\n",
    "    y_train = np.eye(10)[y_train.astype('int32')]\n",
    "    x_test = x_test.reshape(-1, 784).astype('float32') / 255\n",
    "    \n",
    "    return x_train, y_train, x_test"
   ]
  },
  {
   "cell_type": "code",
   "execution_count": 2,
   "metadata": {},
   "outputs": [
    {
     "name": "stdout",
     "output_type": "stream",
     "text": [
      "(60000, 784)\n",
      "(60000, 10)\n",
      "(10000, 784)\n"
     ]
    }
   ],
   "source": [
    "x_train, y_train, x_test = load_fashionmnist()\n",
    "print(x_train.shape)\n",
    "print(y_train.shape)\n",
    "print(x_test.shape)"
   ]
  },
  {
   "cell_type": "markdown",
   "metadata": {},
   "source": [
    "### 多層パーセプトロンの実装"
   ]
  },
  {
   "cell_type": "code",
   "execution_count": 60,
   "metadata": {},
   "outputs": [
    {
     "name": "stdout",
     "output_type": "stream",
     "text": [
      "Writing /root/userspace/chap05/materials/submission_code.py\n"
     ]
    }
   ],
   "source": [
    "# %%writefile /root/userspace/chap05/materials/submission_code.py\n",
    "\n",
    "import math\n",
    "from sklearn.utils import shuffle\n",
    "from sklearn.metrics import accuracy_score\n",
    "from sklearn.model_selection import train_test_split\n",
    "\n",
    "#乱数のseedの前にもってきた\n",
    "tf.reset_default_graph() # グラフのリセット\n",
    "\n",
    "#乱数について追加\n",
    "random_seed = 34\n",
    "np.random.seed(random_seed)\n",
    "tf.set_random_seed(random_seed) \n",
    "\n",
    "x_train, y_train, x_test = load_fashionmnist()\n",
    "x_train, x_valid, y_train, y_valid = train_test_split(x_train, y_train, test_size=1000)\n",
    "\n",
    "x = tf.placeholder(tf.float32, [None, 784])\n",
    "t = tf.placeholder(tf.float32, [None, 10])\n",
    "#勝手に追加\n",
    "is_training = tf.placeholder(tf.bool) # 訓練時orテスト時\n",
    "\n",
    "class Dense:\n",
    "    # WRITE ME\n",
    "    def __init__(self, in_dim, out_dim, function=lambda x: x):\n",
    "        self.W = tf.Variable(tf.random_uniform(shape=(in_dim, out_dim), minval=-0.08, maxval=0.08), name='W')\n",
    "        self.b = tf.Variable(tf.zeros(out_dim), name='b')\n",
    "        self.function = function\n",
    "        \n",
    "        self.params = [self.W, self.b]\n",
    "    \n",
    "    def __call__(self, x):\n",
    "        return self.function(tf.matmul(x, self.W) + self.b)\n",
    "    \n",
    "class Dropout: ##勝手に追加\n",
    "    def __init__(self, dropout_keep_prob=1.0):\n",
    "        self.dropout_keep_prob = dropout_keep_prob\n",
    "        self.params = []\n",
    "    \n",
    "    def __call__(self, x):\n",
    "        # 訓練時のみdropoutを適用\n",
    "        return tf.cond(\n",
    "            pred=is_training,\n",
    "            true_fn=lambda: tf.nn.dropout(x, keep_prob=self.dropout_keep_prob),\n",
    "            false_fn=lambda: x\n",
    "        )\n",
    "\n",
    "def sgd(cost, params, eta=0.1): #epsになってたので、etaに変更。Adagradとかも試してみるといいかも\n",
    "    # WRITE ME\n",
    "    grads = tf.gradients(cost, params)\n",
    "    updates = []\n",
    "    for param, grad in zip(params, grads):\n",
    "        updates.append(param.assign_sub(eta * grad))\n",
    "    return updates\n",
    "\n",
    "def adagrad(cost, params, eta=0.01, eps=1e-7):\n",
    "    grads = tf.gradients(cost, params)\n",
    "    updates = []\n",
    "    for param, grad in zip(params, grads):\n",
    "        G = tf.Variable(tf.zeros_like(param, dtype=tf.float32), name='G')\n",
    "        updates.append(G.assign_add(grad**2))\n",
    "        with tf.control_dependencies(updates):\n",
    "            updates.append(param.assign_sub(eta / tf.sqrt(G + eps) * grad))\n",
    "    return updates\n",
    "\n",
    "def rmsprop(cost, params, eta=0.001, rho=0.9, eps=1e-7):\n",
    "    grads = tf.gradients(cost, params)\n",
    "    updates = []\n",
    "    for param, grad in zip(params, grads):\n",
    "        G = tf.Variable(tf.zeros_like(param, dtype=tf.float32), name='G')\n",
    "        updates.append(G.assign(rho * G + (1 - rho) * grad**2))\n",
    "        with tf.control_dependencies(updates):\n",
    "            updates.append(param.assign_sub(eta / tf.sqrt(G + eps) * grad))\n",
    "    return updates\n",
    "\n",
    "def compute_l2_reg(params): #追加\n",
    "    l2_reg = 0\n",
    "    for param in params:\n",
    "        l2_reg += tf.reduce_sum(tf.square(param)) # 2 * tf.nn.l2_lossを使っても良い\n",
    "    return l2_reg\n",
    "\n",
    "def tf_log(x):\n",
    "    # WRITE ME\n",
    "    return tf.log(tf.clip_by_value(x, 1e-10, x))\n",
    "\n",
    "##勝手に追加##\n",
    "eta = 0.01 # 学習率\n",
    "dropout_keep_prob = 0.5 # Dropout率\n",
    "lmd = 0.001 # L2正則化項の係数\n",
    "# batch_size = 32 # バッチサイズ\n",
    "# n_epochs = 10 # epoch数\n",
    "\n",
    "# WRITE ME\n",
    "layers = [\n",
    "    Dense(784, 200, tf.nn.relu),\n",
    "    Dropout(dropout_keep_prob),\n",
    "    Dense(200, 200, tf.nn.relu),\n",
    "    Dropout(dropout_keep_prob),\n",
    "    Dense(200, 10, tf.nn.softmax)\n",
    "]\n",
    "\n",
    "# params = []\n",
    "# h = x\n",
    "# for layer in layers:\n",
    "#     h = layer(h)\n",
    "#     params += layer.params\n",
    "# y = h\n",
    "##上に代わってこちらを追加。内容は同等\n",
    "def get_params(layers):\n",
    "    params_all = []\n",
    "    for layer in layers:\n",
    "        params = layer.params\n",
    "        params_all.extend(params)\n",
    "    return params_all\n",
    "def f_props(layers, h):\n",
    "    for layer in layers:\n",
    "        h = layer(h)\n",
    "    return h\n",
    "\n",
    "y = f_props(layers, x)\n",
    "params_all = get_params(layers)\n",
    "\n",
    "l2_reg = compute_l2_reg(params_all)\n",
    "\n",
    "# WRITE ME\n",
    "cost = - tf.reduce_mean(tf.reduce_sum(t * tf_log(y), axis=1)) + lmd * l2_reg\n",
    "\n",
    "updates = adagrad(cost, params_all, eta) #適宜optimizerを変更\n",
    "train = tf.group(*updates)\n",
    "\n",
    "n_epochs = 100 #適宜変更 50くらいでいいかも\n",
    "batch_size = 100\n",
    "n_batches = math.ceil(len(x_train) / batch_size)\n",
    "\n",
    "sess = tf.Session()\n",
    "sess.run(tf.global_variables_initializer())\n",
    "for epoch in range(n_epochs):\n",
    "    # WRITE ME\n",
    "    x_train, y_train = shuffle(x_train, y_train)\n",
    "    for i in range(n_batches):\n",
    "        start = i * batch_size\n",
    "        end = start + batch_size\n",
    "        sess.run(train, feed_dict={x: x_train[start:end], t: y_train[start:end], is_training: True})\n",
    "    y_pred, cost_valid_ = sess.run([y, cost], feed_dict={x: x_valid, t: y_valid, is_training: False})\n",
    "    print('EPOCH: {}, Valid Cost: {:.3f}, Valid Accuracy: {:.3f}'.format(\n",
    "        epoch + 1,\n",
    "        cost_valid_,\n",
    "        accuracy_score(y_valid.argmax(axis=1), y_pred.argmax(axis=1))\n",
    "    ))\n",
    "\n",
    "# WRITE ME\n",
    "y_test = sess.run(y, feed_dict={x: x_test, is_training: False}) #sess.runで返すと、numpy配列が帰る\n",
    "y_test = y_test.argmax(axis=1)\n",
    "print(y_test)\n",
    "\n",
    "submission = pd.Series(y_test, name='label')\n",
    "submission.to_csv('/root/userspace/chap05/materials/submission_pred.csv', header=True, index_label='id')"
   ]
  },
  {
   "cell_type": "code",
   "execution_count": 58,
   "metadata": {},
   "outputs": [
    {
     "name": "stdout",
     "output_type": "stream",
     "text": [
      "[9 8 9 5 3 7 1 0 1 8 6 9 2 4 1 9 9 3 2 2 4 7 8 8 6 5 4 8 6 4 6 5 7 6 9 7 5\n",
      " 7 7 8 4 3 0 4 2 4 5 0 1 1 4 6 9 2 8 5 6 8 8 8 5 2 4 4 3 4 8 6 6 9 0 8 4 0\n",
      " 2 7 9 9 4 0 4 1 4 9 6 8 7 7 0 9 8 3 1 4 4 1 7 5 3 7 1 7 9 5 7 6 5 9 9 4 2\n",
      " 3 5 0 6 9 2 4 5 3 5 0 2 9 7 0 9 9 1 4 4 6 8 5 1 4 4 1 8 9 4 2 2 0 2 6 4 6\n",
      " 8 3 0 4 7 0 6 7 1 0 1 9 8 9 0 6 6 7 3 0 3 6 7 5 0 3 5 6 5 9 4 1 1 0 5 6 5\n",
      " 3 4 7 5 2 4 2 3 1 7 5 4 3 5 6 3 3 7 5 2 4 0 8 8 5 6 8 8 9 3 3 7 7 1 3 7 1\n",
      " 5 9 5 2 9 7 4 2 2 0 6 4 0 5 3 2 1 7 8 9 1 4 0 3 2 2 4 0 0 9 7 2 4 0 2 0 9\n",
      " 0 2 7 1 7 8 4 2 3 1 7 7 0 7 4 7 1 8 9 7 2 0 4 3 6 5 9 5 8 2 1 4 0 7 4 8 3\n",
      " 8 5 9 5 6 2 0 5 9 6 9 6 6 1 4 9 7 2 1 7 6 3 6 1 5 1 6 5 3 7 4 7 0 2 0 6 6\n",
      " 7 6 8 8 4 6 1 6 0 9 7 3 3 0 9 1 3 5 8 3 1 5 1 6 3 2 9 1 0 9 9 8 9 5 1 7 8\n",
      " 8 7 2 0 4 6 1 8 4 6 6 8 5 5 0 1 2 3 9 0 1 7 2 6 8 5 2 3 4 0 2 0 0 8 6 2 6\n",
      " 3 2 7 7 0 0 7 6 6 9 4 6 5 8 6 1 4 3 3 0 6 0 8 0 3 4 7 5 2 9 2 8 7 0 3 4 9\n",
      " 1 2 8 6 1 7 9 7 4 9 7 6 6 1 9 0 0 8 5 4 4 0 3 4 0 7 6 8 5 1 1 5 5 9 2 3 4\n",
      " 8 2 6 4 6 3 1 1 8 9 0 5 4 8 5 4 5 8 2 7 1 2 2 0 8 6 3 2 3 5 4 3 9 0 0 0 7\n",
      " 9 5 9 1 7 1 1 7 6 2 0 9 3 0 0 1 7 3 4 2 4 4 6 0 8 8 6 3 1 3 3 5 4 5 5 0 7\n",
      " 6 4 4 0 4 1 0 3 5 6 0 2 1 7 1 3 0 5 8 1 6 9 4 8 9 7 9 6 5 0 7 3 9 0 5 6 9\n",
      " 1 2 2 7 1 9 7 9 1 3 3 6 3 0 0 4 7 1 6 8 0 3 8 2 4 4 0 4 6 8 5 7 7 4 0 7 6\n",
      " 4 0 4 6 0 7 3 6 0 9 3 2 4 4 9 3 4 6 2 0 8 6 3 9 0 3 9 9 8 6 5 8 9 9 2 6 6\n",
      " 9 1 7 5 0 4 1 1 8 8 9 7 9 1 8 1 0 5 7 3 0 9 4 4 9 5 9 4 0 1 0 9 0 0 6 3 7\n",
      " 8 8 9 9 4 1 0 2 9 1 8 4 5 0 8 8 7 1 8 5 6 2 5 3 6 4 7 1 4 4 2 8 1 6 7 9 2\n",
      " 1 6 3 5 1 6 1 9 5 2 3 7 0 2 4 7 6 1 4 1 5 3 3 6 1 2 1 6 8 3 2 0 8 6 6 5 5\n",
      " 2 3 4 3 6 8 6 3 0 6 3 6 2 9 6 8 5 0 5 0 0 2 9 8 5 9 4 9 2 6 4 5 8 4 2 5 4\n",
      " 1 1 9 3 4 5 2 5 9 1 4 9 4 7 5 8 0 8 9 0 0 6 6 4 3 4 8 1 0 1 7 5 6 7 3 6 0\n",
      " 1 3 4 5 7 5 7 3 1 1 8 8 2 5 0 2 1 1 0 6 9 8 9 0 7 3 8 4 2 8 6 5 6 3 1 5 1\n",
      " 4 9 9 7 8 8 2 3 1 5 5 8 3 6 0 8 9 4 0 7 8 7 3 7 1 7 8 5 0 1 6 2 5 8 8 9 5\n",
      " 6 8 3 3 2 0 2 1 8 1 3 5 3 5 4 6 2 1 9 1 6 5 0 3 1 7 7 1 4 4 0 6 2 2 9 0 8\n",
      " 5 6 4 8 3 6 0 4 1 1 5 7 8 7 5 7 3 1 1 8 9 0 7 1 6 1 0 5 2 0 9 6 6 0 5 4 0\n",
      " 2]\n",
      "(1000, 10)\n",
      "[9 8 9 5 3 7 1 0 1 8 6 9 2 4 1 9 9 3 2 2 4 7 8 8 6 5 4 8 6 4 6 5 7 6 9 7 5\n",
      " 7 5 8 4 3 0 4 2 4 5 0 1 1 4 6 9 4 8 5 6 8 8 8 5 2 4 4 3 4 8 6 6 9 0 8 4 0\n",
      " 2 7 7 9 4 0 4 1 4 9 6 8 7 7 0 9 8 3 1 3 6 1 7 5 3 7 1 7 9 5 7 6 5 9 9 4 2\n",
      " 3 5 0 6 9 2 4 5 3 5 0 2 9 7 0 9 9 1 4 4 4 8 5 1 4 4 1 8 9 4 2 2 0 2 4 4 6\n",
      " 8 3 0 4 7 0 4 7 1 0 1 9 8 9 0 2 6 7 3 0 3 6 7 5 0 3 5 6 5 5 6 1 1 0 5 6 5\n",
      " 3 4 7 5 2 2 2 3 1 7 5 4 3 5 6 3 3 7 5 0 3 6 8 8 5 6 8 8 9 3 3 7 9 1 3 7 2\n",
      " 5 9 5 2 9 7 3 2 2 0 6 4 0 5 3 4 1 7 8 9 1 4 0 3 2 2 6 6 0 9 7 4 4 0 6 0 9\n",
      " 0 2 7 1 7 8 4 4 3 1 7 7 3 7 4 7 1 8 9 7 2 0 2 3 6 5 9 5 8 2 1 6 0 7 4 8 3\n",
      " 8 5 7 5 6 2 0 5 9 6 9 6 0 1 4 9 7 2 1 7 6 3 6 1 5 1 6 5 3 7 4 5 0 2 0 2 6\n",
      " 7 6 8 8 4 6 1 6 0 9 7 3 3 0 9 1 4 5 8 3 1 5 1 4 3 2 9 1 6 9 9 8 9 5 1 7 8\n",
      " 8 7 2 0 4 6 1 8 4 6 6 8 5 5 0 1 2 3 9 0 1 7 2 6 8 5 2 3 2 0 2 6 0 8 0 2 6\n",
      " 6 2 7 7 0 0 7 6 2 9 6 0 5 8 0 1 4 3 3 6 0 0 8 0 3 4 7 5 2 9 2 8 7 0 3 4 9\n",
      " 1 2 8 6 1 7 9 7 4 9 7 6 6 1 9 0 0 8 5 4 4 0 3 4 0 7 2 8 5 1 1 5 5 9 2 3 4\n",
      " 8 2 0 6 6 3 1 1 8 9 0 5 3 8 5 4 7 8 2 7 1 2 6 0 8 8 3 2 3 5 4 3 9 0 0 0 7\n",
      " 9 5 9 1 7 1 1 7 2 2 0 9 3 6 0 1 7 3 4 4 4 4 6 0 8 8 6 3 1 3 3 5 4 5 5 0 7\n",
      " 2 2 4 0 4 1 0 3 5 6 0 2 1 7 1 3 0 5 8 1 6 9 4 8 9 7 9 6 5 0 7 0 9 0 5 2 9\n",
      " 1 2 2 7 1 9 7 9 1 3 3 6 3 6 0 4 7 1 0 8 0 3 8 2 4 4 0 4 6 8 5 7 7 4 3 7 3\n",
      " 3 6 4 4 6 7 3 0 0 9 4 2 4 6 9 3 4 6 2 0 8 6 3 9 0 3 9 5 8 4 5 8 9 9 2 6 6\n",
      " 9 1 7 5 0 4 1 1 8 8 7 7 9 1 8 1 0 5 7 3 6 9 4 4 9 5 9 4 0 1 0 9 0 0 6 3 7\n",
      " 8 8 9 9 2 1 0 2 9 1 8 4 5 0 8 3 7 1 8 5 6 2 7 3 6 4 7 1 4 4 2 8 1 6 7 9 2\n",
      " 1 8 3 7 1 6 1 9 5 2 3 7 0 2 4 7 6 1 2 1 5 3 3 6 1 2 1 0 8 3 2 0 8 2 6 5 5\n",
      " 2 3 4 3 0 8 0 3 0 0 3 6 2 9 6 8 5 0 5 0 0 2 9 8 5 9 4 9 2 0 2 5 8 4 2 5 4\n",
      " 1 1 9 3 4 5 4 5 9 1 4 9 6 7 5 8 0 8 9 0 2 6 2 4 3 4 8 1 0 1 7 5 4 7 3 6 0\n",
      " 1 3 4 9 7 5 7 3 1 1 8 8 2 5 0 2 1 1 0 4 9 8 9 0 7 3 8 4 8 8 6 5 6 3 1 5 1\n",
      " 4 9 9 7 8 8 2 3 1 5 5 8 3 6 0 8 9 4 0 7 8 7 3 7 1 7 8 5 0 1 6 2 5 8 8 9 5\n",
      " 6 8 3 3 4 0 2 1 8 1 3 5 3 5 4 4 2 3 9 1 6 5 6 3 1 7 7 1 4 6 6 2 2 6 9 0 8\n",
      " 5 6 4 8 3 6 0 2 1 1 5 7 6 7 5 7 6 3 1 8 9 0 7 1 4 1 0 5 0 0 9 6 3 0 5 4 0\n",
      " 2]\n",
      "(1000, 10)\n"
     ]
    }
   ],
   "source": [
    "print(y_valid.argmax(axis=1))\n",
    "print(y_valid.shape)\n",
    "print(y_pred.argmax(axis=1))\n",
    "print(y_pred.shape)"
   ]
  },
  {
   "cell_type": "code",
   "execution_count": 59,
   "metadata": {},
   "outputs": [
    {
     "name": "stdout",
     "output_type": "stream",
     "text": [
      "[5 9 5 ... 8 9 0]\n",
      "(10000,)\n"
     ]
    }
   ],
   "source": [
    "print(y_test)\n",
    "print(y_test.shape)"
   ]
  },
  {
   "cell_type": "code",
   "execution_count": null,
   "metadata": {},
   "outputs": [],
   "source": []
  }
 ],
 "metadata": {
  "kernelspec": {
   "display_name": "Python 3",
   "language": "python",
   "name": "python3"
  },
  "language_info": {
   "codemirror_mode": {
    "name": "ipython",
    "version": 3
   },
   "file_extension": ".py",
   "mimetype": "text/x-python",
   "name": "python",
   "nbconvert_exporter": "python",
   "pygments_lexer": "ipython3",
   "version": "3.5.2"
  }
 },
 "nbformat": 4,
 "nbformat_minor": 2
}
