{
 "cells": [
  {
   "cell_type": "markdown",
   "metadata": {},
   "source": [
    "# 第8回講義 宿題"
   ]
  },
  {
   "cell_type": "markdown",
   "metadata": {},
   "source": [
    "## 課題\n",
    "RNNを用いてIMDbのsentiment analysisを実装してみましょう。\n",
    "\n",
    "ネットワークの形などは特に制限を設けませんし、今回のLessonで扱った内容以外の工夫も組み込んでもらって構いません。"
   ]
  },
  {
   "cell_type": "markdown",
   "metadata": {},
   "source": [
    "## 目標値\n",
    "F値：0.9"
   ]
  },
  {
   "cell_type": "markdown",
   "metadata": {},
   "source": [
    "## ルール\n",
    "- 以下のセルで指定されている`x_train, t_train`以外の学習データは使わないでください。"
   ]
  },
  {
   "cell_type": "markdown",
   "metadata": {},
   "source": [
    "## 提出方法\n",
    "- 2つのファイルを提出していただきます。\n",
    "  1. テストデータ (x_test) に対する予測ラベルを`submission_pred.csv`として保存し、Homeworkタブから**chap08**を選択して提出してください。\n",
    "  2. それに対応するpythonのコードを`submission_code.py`として保存し、Homeworkタブから**chap08 (code)**を選択して提出してください。\n",
    "    - セルに書いたコードを.py形式で保存するためには%%writefileコマンドなどを利用してください。\n",
    "    - writefileコマンドではファイルの保存のみが行われセル内のpythonコード自体は実行されません。そのため、実際にコードを走らせる際にはwritefileコマンドをコメントアウトしてください\n",
    "\n",
    "\n",
    "- コードの内容を変更した場合は、1と2の両方を提出し直してください。\n",
    "\n",
    "- なお、採点は1で行い、2はコードの確認用として利用します。(成績優秀者はコード内容を公開させていただくかもしれません。)\n",
    "\n",
    "- **宿題の締め切りは【出題週の翌週水曜日24時】です。**"
   ]
  },
  {
   "cell_type": "markdown",
   "metadata": {},
   "source": [
    "## 評価方法\n",
    "\n",
    "- 予測ラベルの（`t_test`に対する）F値で評価します。\n",
    "- 毎日24時にテストデータの一部に対するF値でLeader Boardを更新します。\n",
    "- 締切日の夜24時にテストデータ全体に対するF値でLeader Boardを更新します。これを最終的な評価とします。"
   ]
  },
  {
   "cell_type": "markdown",
   "metadata": {},
   "source": [
    "## データの読み込み（このセルは修正しないでください）"
   ]
  },
  {
   "cell_type": "code",
   "execution_count": 1,
   "metadata": {},
   "outputs": [],
   "source": [
    "import numpy as np\n",
    "import pandas as pd #追加\n",
    "\n",
    "def load_dataset():\n",
    "    # 学習データ\n",
    "    x_train = np.load('/root/userspace/public/chap08/data/x_train.npy')\n",
    "    t_train = np.load('/root/userspace/public/chap08/data/t_train.npy')\n",
    "    \n",
    "    # テストデータ\n",
    "    x_test = np.load('/root/userspace/public/chap08/data/x_test.npy')\n",
    "\n",
    "    return (x_train, x_test, t_train)\n",
    "\n",
    "x_train, x_test, t_train = load_dataset()"
   ]
  },
  {
   "cell_type": "markdown",
   "metadata": {},
   "source": [
    "## 実装"
   ]
  },
  {
   "cell_type": "code",
   "execution_count": 2,
   "metadata": {},
   "outputs": [
    {
     "name": "stdout",
     "output_type": "stream",
     "text": [
      "(40000,)\n",
      "(10000,)\n",
      "(40000,)\n"
     ]
    }
   ],
   "source": [
    "print(x_train.shape)\n",
    "print(x_test.shape)\n",
    "print(t_train.shape)"
   ]
  },
  {
   "cell_type": "code",
   "execution_count": 23,
   "metadata": {
    "collapsed": true
   },
   "outputs": [
    {
     "name": "stdout",
     "output_type": "stream",
     "text": [
      "Writing /root/userspace/chap08/materials/submission_code.py\n"
     ]
    }
   ],
   "source": [
    "# %%writefile /root/userspace/chap08/materials/submission_code.py\n",
    "import tensorflow as tf\n",
    "from sklearn.model_selection import train_test_split\n",
    "from sklearn.metrics import f1_score\n",
    "from tensorflow.keras.preprocessing.sequence import pad_sequences\n",
    "\n",
    "#乱数について追加\n",
    "random_seed = 34\n",
    "np.random.seed(random_seed)\n",
    "tf.set_random_seed(random_seed) \n",
    "\n",
    "### レイヤー定義 ###\n",
    "class Embedding:# WRITE ME\n",
    "    def __init__(self, vocab_size, emb_dim, scale=0.08):\n",
    "        self.V = tf.Variable(tf.random_normal([vocab_size, emb_dim], stddev=scale), name='V')\n",
    "    def __call__(self, x):\n",
    "        return tf.nn.embedding_lookup(self.V, x)    \n",
    "    \n",
    "class RNN:# WRITE ME\n",
    "#     Cellを用いたRNNの記述\n",
    "    def __init__(self, hid_dim, seq_len = None, initial_state = None):\n",
    "        self.cell = tf.nn.rnn_cell.BasicRNNCell(hid_dim)\n",
    "        self.initial_state = initial_state\n",
    "        self.seq_len = seq_len\n",
    "    def __call__(self, x):\n",
    "        if self.initial_state is None:\n",
    "            self.initial_state = self.cell.zero_state(tf.shape(x)[0], tf.float32)    \n",
    "        # outputsは各系列長分以降は0になるので注意\n",
    "        outputs, state = tf.nn.dynamic_rnn(self.cell, x, self.seq_len, self.initial_state)\n",
    "        return tf.gather_nd(outputs, tf.stack([tf.range(tf.shape(x)[0]), self.seq_len-1], axis=1))\n",
    "\n",
    "class LSTM:\n",
    "    def __init__(self, hid_dim, seq_len = None, initial_state = None):\n",
    "        self.cell = tf.nn.rnn_cell.BasicLSTMCell(hid_dim)\n",
    "        self.initial_state = initial_state\n",
    "        self.seq_len = seq_len\n",
    "    def __call__(self, x):\n",
    "        if self.initial_state is None:\n",
    "            self.initial_state = self.cell.zero_state(tf.shape(x)[0], tf.float32)    \n",
    "        outputs, state = tf.nn.dynamic_rnn(self.cell, x, self.seq_len, self.initial_state)\n",
    "        return tf.gather_nd(outputs, tf.stack([tf.range(tf.shape(x)[0]), self.seq_len-1], axis=1))\n",
    "    \n",
    "def tf_log(x):\n",
    "    return tf.log(tf.clip_by_value(x, 1e-10, x))\n",
    "\n",
    "### グラフ構築 ###\n",
    "tf.reset_default_graph()\n",
    "\n",
    "emb_dim = 100 #50\n",
    "hid_dim = 50 #25で30分でOKn=2,b=5,長さ1/2\n",
    "num_words = max([max(s) for s in np.hstack((x_train, x_test))])\n",
    "pad_index = 0\n",
    "\n",
    "x = tf.placeholder(tf.int32, [None, None], name='x')\n",
    "t = tf.placeholder(tf.float32, [None, None], name='t')\n",
    "\n",
    "# WRITE ME\n",
    "seq_len = tf.reduce_sum(tf.cast(tf.not_equal(x, pad_index), tf.int32), axis=1)\n",
    "## network\n",
    "layers = [\n",
    "    Embedding(num_words, emb_dim),\n",
    "    LSTM(hid_dim, seq_len), #RNN or LSTM\n",
    "    tf.layers.Dense(1, tf.nn.sigmoid)\n",
    "]\n",
    "def f_props(layers, h):\n",
    "    for layer in layers:\n",
    "        h = layer(h)\n",
    "    return h\n",
    "y = f_props(layers, x)\n",
    "##\n",
    "\n",
    "cost = -tf.reduce_mean(t*tf_log(y) + (1 - t)*tf_log(1 - y))\n",
    "\n",
    "# train = tf.train.AdamOptimizer().minimize(cost) #の代わりに下を実行\n",
    "optimizer = tf.train.AdamOptimizer(0.001)\n",
    "grads = optimizer.compute_gradients(cost)\n",
    "clipped_grads = [(tf.clip_by_value(grad_val, -1., 1.), var) for grad_val, var in grads]\n",
    "train = optimizer.apply_gradients(clipped_grads)\n",
    "\n",
    "test = tf.round(y)\n",
    "\n",
    "### データの準備 ###\n",
    "x_train, x_valid, t_train, t_valid = train_test_split(x_train, t_train)\n",
    "\n",
    "#データ量を半分に。コメントアウトすると、2倍時間がかかる\n",
    "# x_train = x_train[:len(x_train)//2]\n",
    "# t_train = t_train[:len(t_train)//2]\n",
    "# x_valid = x_valid[:len(x_valid)//2]\n",
    "# t_valid = t_valid[:len(t_valid)//2]\n",
    "\n",
    "x_train_lens = [len(com) for com in x_train]\n",
    "sorted_train_indexes = sorted(range(len(x_train_lens)), key=lambda x: -x_train_lens[x])\n",
    "x_train = [x_train[ind] for ind in sorted_train_indexes]\n",
    "t_train = [t_train[ind] for ind in sorted_train_indexes]\n",
    "\n",
    "### 学習 ###\n",
    "n_epochs = 3\n",
    "batch_size = 5 # バッチサイズが大きいと、ResourceExhaustedErrorになることがある\n",
    "n_batches_train = len(x_train) // batch_size\n",
    "n_batches_valid = len(x_valid) // batch_size\n",
    "\n",
    "with tf.Session() as sess:\n",
    "    sess.run(tf.global_variables_initializer())\n",
    "    for epoch in range(n_epochs):\n",
    "        # Train\n",
    "        train_costs = []\n",
    "        for i in range(n_batches_train):\n",
    "            start = i * batch_size\n",
    "            end = start + batch_size\n",
    "            \n",
    "            x_train_batch = np.array(pad_sequences(x_train[start:end], padding='post', value=pad_index))\n",
    "            t_train_batch = np.array(t_train[start:end])[:, None]\n",
    "\n",
    "            _, train_cost = sess.run([train, cost], feed_dict={x: x_train_batch, t: t_train_batch})\n",
    "            train_costs.append(train_cost)\n",
    "        \n",
    "        # Valid\n",
    "        valid_costs = []\n",
    "        y_pred = []\n",
    "        for i in range(n_batches_valid):\n",
    "            start = i * batch_size\n",
    "            end = start + batch_size\n",
    "            \n",
    "            x_valid_pad = np.array(pad_sequences(x_valid[start:end], padding='post', value=pad_index))\n",
    "            t_valid_pad = np.array(t_valid[start:end])[:, None]\n",
    "            \n",
    "            pred, valid_cost = sess.run([test, cost], feed_dict={x: x_valid_pad, t: t_valid_pad})\n",
    "            y_pred += pred.flatten().tolist()\n",
    "            valid_costs.append(valid_cost)\n",
    "        print('EPOCH: %i, Training Cost: %.3f, Validation Cost: %.3f, Validation F1: %.3f' % (epoch+1, np.mean(train_costs), np.mean(valid_costs), f1_score(t_valid, y_pred, average='macro')))\n",
    "    \n",
    "    # Test\n",
    "#     x_test_pad = np.array(pad_sequences(x_test[:], padding='post', value=pad_index))\n",
    "#     tested = sess.run(test, feed_dict={x: x_test_pad})\n",
    "#     y_test = []\n",
    "#     y_test += tested.flatten().tolist()\n",
    "#     print(y_test.shape)\n",
    "    \n",
    "    # 上みたいに一気にやると、ResourceExhaustedErrorがでがち\n",
    "    n_batches_test = len(x_test) // batch_size\n",
    "    y_test = []\n",
    "    for i in range(n_batches_test):\n",
    "        start = i * batch_size\n",
    "        end = start + batch_size\n",
    "        x_test_pad = np.array(pad_sequences(x_test[start:end], padding='post', value=pad_index))\n",
    "        tested = sess.run(test, feed_dict={x: x_test_pad})\n",
    "        y_test += tested.flatten().tolist()\n",
    "    \n",
    "#     sess.close()\n",
    "\n",
    "# ### 出力 ###\n",
    "submission = pd.Series(y_test, name='label')\n",
    "submission.to_csv('/root/userspace/chap08/materials/submission_pred.csv', header=True, index_label='id')"
   ]
  },
  {
   "cell_type": "code",
   "execution_count": null,
   "metadata": {},
   "outputs": [],
   "source": []
  }
 ],
 "metadata": {
  "kernelspec": {
   "display_name": "Python 3",
   "language": "python",
   "name": "python3"
  },
  "language_info": {
   "codemirror_mode": {
    "name": "ipython",
    "version": 3
   },
   "file_extension": ".py",
   "mimetype": "text/x-python",
   "name": "python",
   "nbconvert_exporter": "python",
   "pygments_lexer": "ipython3",
   "version": "3.5.2"
  }
 },
 "nbformat": 4,
 "nbformat_minor": 2
}
